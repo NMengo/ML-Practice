{
  "nbformat": 4,
  "nbformat_minor": 0,
  "metadata": {
    "colab": {
      "name": "Marvik Prueba técnica.ipynb",
      "provenance": [],
      "collapsed_sections": []
    },
    "kernelspec": {
      "name": "python3",
      "display_name": "Python 3"
    }
  },
  "cells": [
    {
      "cell_type": "markdown",
      "metadata": {
        "id": "JcnNGkW2mkfN"
      },
      "source": [
        "# Prueba técnica de Marvik\n",
        "\n",
        "A continuación se encuentra un ejemplo práctico del uso de Deep Learning, utilizando Keras y Tensorflow.\n",
        "\n",
        "---\n"
      ]
    },
    {
      "cell_type": "markdown",
      "metadata": {
        "id": "gnv6Jj9WoIPj"
      },
      "source": [
        "## Predicción de series ordenadas en el tiempo\n",
        "\n",
        "En este proyecto se hará una predicción de una serie ordenada en el tiempo usando un regresor RNN (Recurrent Neural Network regressor).\n",
        "\n",
        "Se hará una predicción del precio de la acción de Apple con 7 días de anticipación, en base a una serie histórica.\n",
        "\n",
        "Se hará uso de una arquitectura para el RNN conocida como [Long Term Short Memory (LTSM)](https://en.wikipedia.org/wiki/Long_short-term_memory)."
      ]
    },
    {
      "cell_type": "markdown",
      "metadata": {
        "id": "vbDklWx_tvVz"
      },
      "source": [
        "### Parte 1: Primeros pasos\n",
        "Primero se debe cargar una serie histórica. Cargaremos una serie con el precio de la acción de Apple de 140 días. Luego se hará un pre-procesamiento para utilizar la información con un modelo de una RNN. Como primer paso se normalizó el rango la serie. Esto ayuda a evitar grandes problemas numéricos asociados a como las funciones de activación como tanh transforman números muy grandes (sean positivos o negativos) y ayuda a evitar problemas con el cálculo de las derivadas.\n",
        "\n",
        "Se normaliza la serie para que pertenezca al rango [-1,1] [usando esta función de la librería scikit](https://scikit-learn.org/stable/modules/generated/sklearn.preprocessing.MinMaxScaler.html). También es común ver aplicaciones donde se normaliza utilizando la desviación estándar.\n"
      ]
    },
    {
      "cell_type": "code",
      "metadata": {
        "id": "45EDLqTnRbuI"
      },
      "source": [
        "### Cargar las librerías necesarias para el cargado de los datos y la normalización\n",
        "%matplotlib inline\n",
        "import numpy as np\n",
        "import matplotlib.pyplot as plt\n",
        "\n",
        "\n",
        "# Clonar repositorio con los datos en espacio de trabajo\n",
        "! git clone https://bitbucket.org/botiaio/campusparty_applestock.git"
      ],
      "execution_count": null,
      "outputs": []
    },
    {
      "cell_type": "code",
      "metadata": {
        "id": "nreN3_fWw2b9"
      },
      "source": [
        "### Cargar los datos normalizados\n",
        "dataset = np.loadtxt('campusparty_applestock/normalized_apple_prices.csv')"
      ],
      "execution_count": null,
      "outputs": []
    },
    {
      "cell_type": "markdown",
      "metadata": {
        "id": "-hJpnnBfzcKF"
      },
      "source": [
        "Observemos los datos cargados"
      ]
    },
    {
      "cell_type": "code",
      "metadata": {
        "id": "Y7ipXvoIyZRt"
      },
      "source": [
        "#Grafiquemos los datos\n",
        "plt.plot(dataset)\n",
        "plt.xlabel('periodo de tiempo')\n",
        "plt.ylabel('serie normalizada')"
      ],
      "execution_count": null,
      "outputs": []
    },
    {
      "cell_type": "markdown",
      "metadata": {
        "id": "uq-M4flwuQsJ"
      },
      "source": [
        ""
      ]
    },
    {
      "cell_type": "markdown",
      "metadata": {
        "id": "IuD7SivS0bMn"
      },
      "source": [
        "### Parte 2: Cortar la serie ordenada en secuencias\n",
        "\n",
        "Generalmente se representa matemáticamente una serie ordenada como:\n",
        "\n",
        "$$s_{0},s_{1},s_{2},...,s_{P}$$\n",
        "\n",
        "\n",
        "donde $s_{p}$ es el valor numérico de la serie en el intervalo de tiempo $p$ , siendo  $P$ el largo total de la serie. Para aplicar el RNN se debe tratar a la predicción como un problema de regresión. Para ello se debe usar una ventana móvil para construir un set asociado de pares de entrada-salida sobre los cuales aplicar la regresión.\n",
        "\n",
        "Por ejemplo, para una ventana de tamaño T = 3 se deben producir los siguientes pares:\n",
        "\n",
        "$$\\begin{array}{c|c}\n",
        "\\text{Input} & \\text{Output}\\\\\n",
        "\\hline \\color{CornflowerBlue} {\\langle s_{1},s_{2},s_{3}\\rangle} & \\color{Goldenrod}{ s_{4}} \\\\\n",
        "\\ \\color{CornflowerBlue} {\\langle s_{2},s_{3},s_{4} \\rangle } & \\color{Goldenrod} {s_{5} } \\\\\n",
        "\\color{CornflowerBlue}  {\\vdots} & \\color{Goldenrod} {\\vdots}\\\\\n",
        "\\color{CornflowerBlue} { \\langle s_{P-3},s_{P-2},s_{P-1} \\rangle } & \\color{Goldenrod} {s_{P}}\n",
        "\\end{array}$$\n",
        "\n",
        "\n",
        "####Ventana móvil\n",
        "Completar la función llamada **window_transform_series** que ejecuta una ventana móvil a lo largo de una serie de datos y crea los pares de input y output necesarios para el entrenamiento.\n",
        "\n",
        "La función recibe la serie de datos y el tamaño de la ventana (3 en el ejemplo de arriba). Se debe retornar un numpy array."
      ]
    },
    {
      "cell_type": "code",
      "metadata": {
        "id": "HYQ400ZvxkDS"
      },
      "source": [
        "### @TODO: completar la función debajo que transforma los datos en los pares input-output necesarios dado el tamaño de la ventana\n",
        "def window_transform_series(series,window_size):\n",
        "    # variables para los pares input-output\n",
        "    X = []\n",
        "    y = []\n",
        "    \n",
        "    ### Se recomienda usar un for dentro de otro for aquí\n",
        "    \n",
        "        \n",
        "    # Código auxiliar que puede ser necesario\n",
        "    # X = np.asarray(X)\n",
        "    # X.shape = (np.shape(X)[0:2])\n",
        "    # y = np.asarray(y)\n",
        "    # y.shape = (len(y),1)\n",
        "    \n",
        "    return X,y"
      ],
      "execution_count": null,
      "outputs": []
    },
    {
      "cell_type": "markdown",
      "metadata": {
        "id": "Ko2NEdo-5qTg"
      },
      "source": [
        "Se puede probar la función con los datos de debajo:"
      ]
    },
    {
      "cell_type": "markdown",
      "metadata": {
        "id": "FJGLFZtrU31S"
      },
      "source": [
        "### Probar la función window_transform_series\n",
        "A continuación probar el código recién programado. Puede ser sobre la serie de datos del problema o sobre otra serie de datos cuya secuencia sea conocida (por ejemplo Fibonacci)."
      ]
    },
    {
      "cell_type": "code",
      "metadata": {
        "id": "ZE9nGiEq5mFE"
      },
      "source": [
        "test_series = ..."
      ],
      "execution_count": null,
      "outputs": []
    },
    {
      "cell_type": "code",
      "metadata": {
        "id": "4wz5jQbq5uQS"
      },
      "source": [
        "### @TODO\n",
        "# Utilizar una ventana de tamaño 2 y obtener el siguiente número de la serie\n",
        "window_size = 2\n",
        "X,y = ..."
      ],
      "execution_count": null,
      "outputs": []
    },
    {
      "cell_type": "code",
      "metadata": {
        "id": "SYGfV2mT5wOu"
      },
      "source": [
        "print ('El input X es:')\n",
        "print (X)\n",
        "\n",
        "print ('El output y asociado es:')\n",
        "print (y)"
      ],
      "execution_count": null,
      "outputs": []
    },
    {
      "cell_type": "markdown",
      "metadata": {
        "id": "twP8lefj50wH"
      },
      "source": [
        "Una vez que la función de arriba funcione correctamente, aplicarla con una ventana de tamaño 7 al juego de datos cargados.\n",
        "\n"
      ]
    },
    {
      "cell_type": "code",
      "metadata": {
        "id": "jp03sQYp5yiy"
      },
      "source": [
        "### @TODO\n",
        "# Definir la variable window_size y usarla al invocar la función window_transform_series\n",
        "window_size = ...\n",
        "X,y = ..."
      ],
      "execution_count": null,
      "outputs": []
    },
    {
      "cell_type": "markdown",
      "metadata": {
        "id": "t2BYsK4W56zB"
      },
      "source": [
        "###Parte 3: Separar los datos en datos de entrenamiento y de test\n",
        "Se recomienda separar al menos un tercio de los datos para validación o test. Hacer eso a continuación. Aprovechar que es una serie ordenada y no hacer un split aleatorio de los datos para separar en test y train."
      ]
    },
    {
      "cell_type": "code",
      "metadata": {
        "id": "V8iZ5rLF53zT"
      },
      "source": [
        "### @TODO\n",
        "# Separar los datos en entrenamiento y test\n",
        "train_test_split = ...\n",
        "\n",
        "# Partir los datos\n",
        "X_train = ...\n",
        "y_train = ...\n",
        "\n",
        "# Mantener la última parte para test\n",
        "X_test = ...\n",
        "y_test = ..."
      ],
      "execution_count": null,
      "outputs": []
    },
    {
      "cell_type": "code",
      "metadata": {
        "id": "WcYCHvJs6EhM"
      },
      "source": [
        "# IMPORTANTE: para utilizar el módulo RNN LSTM de Keras el input debe tener la forma [samples, window size, stepsize]\n",
        "#Estas transformaciones se hacen a continuación\n",
        "X_train = np.asarray(np.reshape(X_train, (X_train.shape[0], window_size, 1)))\n",
        "X_test = np.asarray(np.reshape(X_test, (X_test.shape[0], window_size, 1)))"
      ],
      "execution_count": null,
      "outputs": []
    },
    {
      "cell_type": "markdown",
      "metadata": {
        "id": "tJF0hQ606KI-"
      },
      "source": [
        "###Parte 4: Crear y ejecutar un modelo de regresión utilizando RNN\n",
        "\n",
        "Se utilizará Keras para construir una red neuronal con dos capas ocultas RNN con las siguientes especificaciones:\n",
        "\n",
        "* La capa 1 debe usar un módulo LSTM con 5 unidades ocultas (el input_shape de la misma debe ser (window_size,1))\n",
        "* La capa 2 usa un módulo completamente conectado (fully connected) con una unidad\n",
        "* Se debe usar la función de pérdida 'mean_squared_error'\n",
        "\n",
        "Ayudas:\n",
        "\n",
        "* [Documentación general de Keras](https://keras.io/getting-started/sequential-model-guide/)\n",
        "* [Documentación de Keras de LTSM](https://keras.io/layers/recurrent/)\n",
        "* Asegurarse de inicializar el [optimizador recomendado por Keras para RNN](https://keras.io/optimizers/)"
      ]
    },
    {
      "cell_type": "code",
      "metadata": {
        "id": "q33SHho_6GL0"
      },
      "source": [
        "### @TODO: Crear el modelo RNN\n",
        "# Importar librerías de Keras\n",
        "from keras.models import Sequential\n",
        "from keras.layers import Dense\n",
        "from keras.layers import LSTM\n",
        "import keras\n",
        "\n",
        "#Crear el modelo secuencial\n",
        "model = ...\n",
        "#Agregar una capa LSTM con 5 unidades ocultas y el input shape necesario\n",
        "...\n",
        "#Agregar una capa densa con una unidad\n",
        "...\n",
        "\n",
        "# Crear el modelo utilizando el optimizador recomendado por la documentación de keras\n",
        "optimizer = ...\n",
        "\n",
        "# Compilar el modelo con la función de pérdida requerida\n",
        "..."
      ],
      "execution_count": null,
      "outputs": []
    },
    {
      "cell_type": "markdown",
      "metadata": {
        "id": "gd-dZ1ix60lN"
      },
      "source": [
        "Entrenar el modelo con los datos separados para esta función haciendo uso de la función fit.\n",
        "\n",
        "Sugerencia: Investigar y probar con distintos valores de epochs y tamaño de batch. Buscar en la documentación de keras por más información.\n"
      ]
    },
    {
      "cell_type": "code",
      "metadata": {
        "id": "8gVfdvyk6xaK"
      },
      "source": [
        "### @TODO\n",
        "# Hacer fit"
      ],
      "execution_count": null,
      "outputs": []
    },
    {
      "cell_type": "markdown",
      "metadata": {
        "id": "W52-gZHg7BRF"
      },
      "source": [
        "###Parte 5: Medir la performance del modelo\n",
        "Ahora estamos en condiciones de hacer una predicción"
      ]
    },
    {
      "cell_type": "code",
      "metadata": {
        "id": "-6bFrjyN65zU"
      },
      "source": [
        "### @TODO\n",
        "# Hacer la predicción con el modelo entrenado\n",
        "train_predict = ...\n",
        "test_predict = ..."
      ],
      "execution_count": null,
      "outputs": []
    },
    {
      "cell_type": "markdown",
      "metadata": {
        "id": "8VmgFxfR7Ifz"
      },
      "source": [
        "Se debería obtener un error sobre los datos de entrenamiento como de test menor al 2%. Si no se consigue este valor, se puede aumentar el número de epochs y re-entrenar el modelo o ajustar el tamaño del batch. Estudiar en la documentación que otros hiper-parámetros se pueden modificar para mejorar la precisión."
      ]
    },
    {
      "cell_type": "code",
      "metadata": {
        "id": "mB6rI3UT7HJa"
      },
      "source": [
        "# Medir la precisión\n",
        "training_error = model.evaluate(X_train, y_train, verbose=0)\n",
        "print('Error de entrenamiento = ' + str(training_error))\n",
        "\n",
        "testing_error = model.evaluate(X_test, y_test, verbose=0)\n",
        "print('Error de test = ' + str(testing_error))"
      ],
      "execution_count": null,
      "outputs": []
    },
    {
      "cell_type": "markdown",
      "metadata": {
        "id": "Sh6fy9Rv7Pw3"
      },
      "source": [
        "Ahora grafiquemos los datos:"
      ]
    },
    {
      "cell_type": "code",
      "metadata": {
        "id": "Wk8LtGp-7M5A"
      },
      "source": [
        "import matplotlib.pyplot as plt\n",
        "%matplotlib inline\n",
        "\n",
        "# Graficar serie original\n",
        "plt.plot(dataset,color = 'k')\n",
        "\n",
        "# Graficar la predicción de entrenamiento\n",
        "split_pt = train_test_split + window_size \n",
        "plt.plot(np.arange(window_size,split_pt,1),train_predict,color = 'b')\n",
        "\n",
        "# Graficar la predicción de validación\n",
        "plt.plot(np.arange(split_pt,split_pt + len(test_predict),1),test_predict,color = 'r')\n",
        "\n",
        "# Agregar rótulos\n",
        "plt.xlabel('día')\n",
        "plt.ylabel('Precio de acción de Apple (normalizado)')\n",
        "plt.legend(['Serie original','Predicción de training','Predicción de validación'],loc='center left', bbox_to_anchor=(1, 0.5))\n",
        "plt.show()"
      ],
      "execution_count": null,
      "outputs": []
    },
    {
      "cell_type": "markdown",
      "metadata": {
        "id": "rteaX5F97UVa"
      },
      "source": [
        "Nota:[Aquí](https://datamarket.com/data/list/?q=provider%3Atsdl) se pueden encontrar otras series ordenadas con las que probar"
      ]
    },
    {
      "cell_type": "markdown",
      "metadata": {
        "id": "LOwpkpF3V9AY"
      },
      "source": [
        "### Puntos de mejora\n",
        "A continuación listar o llevar adelante los puntos que se entiende pueden mejorar la solución alcanzada."
      ]
    },
    {
      "cell_type": "markdown",
      "metadata": {
        "id": "LsL6HKNuWLF9"
      },
      "source": [
        "(Completar respuesta aquí)"
      ]
    },
    {
      "cell_type": "code",
      "metadata": {
        "id": "Q_gXOkfBWKhP"
      },
      "source": [
        "# Completar respuesta aquí"
      ],
      "execution_count": null,
      "outputs": []
    },
    {
      "cell_type": "code",
      "metadata": {
        "id": "ziuWV1jJWRi1"
      },
      "source": [
        ""
      ],
      "execution_count": null,
      "outputs": []
    }
  ]
}